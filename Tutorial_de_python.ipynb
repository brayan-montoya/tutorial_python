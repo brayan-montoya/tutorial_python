{
 "cells": [
  {
   "cell_type": "markdown",
   "metadata": {},
   "source": [
    "# Tutorial básico de python"
   ]
  },
  {
   "cell_type": "markdown",
   "metadata": {},
   "source": [
    "Python admite varios tipos de datos nativos:\n",
    "\n",
    " **Enteros (int):** Números enteros, como `10`, `-5`.\n",
    "- **Punto Flotante (float):** Números decimales, como `3.14`, `-0.1`.\n",
    "- **Cadenas de Texto (str):** Secuencias de caracteres, como `\"Hola, Mundo!\"`.\n",
    "- **Booleanos (bool):** Valores de verdad, `True` o `False`."
   ]
  },
  {
   "cell_type": "markdown",
   "metadata": {},
   "source": [
    "##  Operaciones entre Tipos de Datos"
   ]
  },
  {
   "cell_type": "markdown",
   "metadata": {},
   "source": [
    "### Operaciones Numéricas\n",
    "Python permite realizar operaciones matemáticas básicas:\n",
    "- Suma (+), resta (-), multiplicación (*), división (/), módulo (%), exponenciación (**)."
   ]
  },
  {
   "cell_type": "code",
   "execution_count": 3,
   "metadata": {},
   "outputs": [
    {
     "name": "stdout",
     "output_type": "stream",
     "text": [
      "14\n",
      "6\n",
      "40\n",
      "10000\n",
      "2\n"
     ]
    }
   ],
   "source": [
    "a = 10\n",
    "b = 4\n",
    "suma = a + b          \n",
    "resta = a - b         \n",
    "producto = a * b     \n",
    "division = a / b      \n",
    "potencia = a **  b\n",
    "modulo = a % b     \n",
    "print(suma)\n",
    "print(resta)\n",
    "print(producto)\n",
    "print(potencia)\n",
    "print(modulo)"
   ]
  },
  {
   "cell_type": "markdown",
   "metadata": {},
   "source": [
    "### Operaciones Lógicas\n",
    "Los operadores lógicos (and, or, not) se utilizan para combinar condiciones."
   ]
  },
  {
   "cell_type": "code",
   "execution_count": 2,
   "metadata": {},
   "outputs": [
    {
     "name": "stdout",
     "output_type": "stream",
     "text": [
      "False\n",
      "True\n",
      "False\n"
     ]
    }
   ],
   "source": [
    "x = True\n",
    "y = False\n",
    "\n",
    "print(x and y) \n",
    "print(x or y)   \n",
    "print(not x)  "
   ]
  },
  {
   "cell_type": "markdown",
   "metadata": {},
   "source": [
    "### Operaciones con cadenas de texto\n",
    "Podemos concatenar (+) o repetir (*) cadenas de texto."
   ]
  },
  {
   "cell_type": "code",
   "execution_count": 3,
   "metadata": {},
   "outputs": [
    {
     "name": "stdout",
     "output_type": "stream",
     "text": [
      "Hola, Python\n",
      "PythonPythonPython\n"
     ]
    }
   ],
   "source": [
    "nombre = \"Python\"\n",
    "saludo = \"Hola, \" + nombre\n",
    "repetir = nombre * 3\n",
    "\n",
    "print(saludo)    \n",
    "print(repetir)   "
   ]
  },
  {
   "cell_type": "markdown",
   "metadata": {},
   "source": [
    "##  Estructuras de Datos Básicas "
   ]
  },
  {
   "cell_type": "markdown",
   "metadata": {},
   "source": [
    "### Tupla\n",
    "Una tupla es una colección ordenada e inmutable."
   ]
  },
  {
   "cell_type": "code",
   "execution_count": 7,
   "metadata": {},
   "outputs": [
    {
     "name": "stdout",
     "output_type": "stream",
     "text": [
      "Brayan\n",
      "1\n",
      "True\n"
     ]
    }
   ],
   "source": [
    "\n",
    "mi_tupla = (1, \"Brayan\", True)\n",
    "print(mi_tupla[1])\n",
    "print(mi_tupla[0])\n",
    "print(mi_tupla[2])"
   ]
  },
  {
   "cell_type": "markdown",
   "metadata": {},
   "source": [
    "### Lista\n",
    "Una lista es una colección ordenada y mutable."
   ]
  },
  {
   "cell_type": "code",
   "execution_count": 10,
   "metadata": {},
   "outputs": [
    {
     "name": "stdout",
     "output_type": "stream",
     "text": [
      "[1, 2, 3]\n",
      "[10, 2, 3]\n",
      "[10, 2, 3, 4]\n"
     ]
    }
   ],
   "source": [
    "mi_lista = [1, 2, 3]\n",
    "print(mi_lista)\n",
    "mi_lista[0] = 10  \n",
    "print(mi_lista)\n",
    "mi_lista.append(4)  \n",
    "print(mi_lista) "
   ]
  },
  {
   "cell_type": "markdown",
   "metadata": {},
   "source": [
    "### Set (conjunto)\n",
    "Un set es una colección desordenada de elementos únicos."
   ]
  },
  {
   "cell_type": "code",
   "execution_count": 11,
   "metadata": {},
   "outputs": [
    {
     "name": "stdout",
     "output_type": "stream",
     "text": [
      "{1, 2, 3}\n"
     ]
    }
   ],
   "source": [
    "mi_set = {1, 2, 3, 3}\n",
    "print(mi_set) "
   ]
  },
  {
   "cell_type": "markdown",
   "metadata": {},
   "source": [
    "### Diccionario\n",
    "Un diccionario es una colección de pares clave-valor."
   ]
  },
  {
   "cell_type": "code",
   "execution_count": 14,
   "metadata": {},
   "outputs": [
    {
     "name": "stdout",
     "output_type": "stream",
     "text": [
      "Brayan\n",
      "27\n"
     ]
    }
   ],
   "source": [
    "mi_diccionario = {\"nombre\": \"Brayan\", \"edad\": 27}\n",
    "print(mi_diccionario[\"nombre\"])\n",
    "print(mi_diccionario[\"edad\"])"
   ]
  },
  {
   "cell_type": "markdown",
   "metadata": {},
   "source": [
    "## Modificar información "
   ]
  },
  {
   "cell_type": "markdown",
   "metadata": {},
   "source": [
    "### Modificar lista \n",
    "Puedes modificar los elementos de una lista asignando nuevos valores a posiciones específicas o usando métodos incorporados para agregar, eliminar o cambiar elementos."
   ]
  },
  {
   "cell_type": "code",
   "execution_count": 20,
   "metadata": {},
   "outputs": [
    {
     "name": "stdout",
     "output_type": "stream",
     "text": [
      "[10, 20, 30, 40, 50]\n",
      "[15, 20, 30, 40, 50]\n",
      "[15, 20, 30, 40, 50, 60]\n",
      "[15, 20, 25, 30, 40, 50, 60]\n",
      "[15, 20, 25, 30, 50, 60]\n",
      "[15, 20, 25, 50, 60]\n",
      "[15, 20, 25, 50, 60]\n",
      "Elemento eliminado: 30\n"
     ]
    }
   ],
   "source": [
    "mi_lista = [10, 20, 30, 40, 50]\n",
    "print(mi_lista)\n",
    "\n",
    "# Modificar un elemento\n",
    "mi_lista[0] = 15 \n",
    "print(mi_lista)\n",
    "\n",
    "# Agregar elementos al final de la lista\n",
    "mi_lista.append(60)\n",
    "print(mi_lista)\n",
    "\n",
    "# Insertar un elemento en una posición específica\n",
    "mi_lista.insert(2, 25)  \n",
    "print(mi_lista)\n",
    "\n",
    "# Eliminar un elemento específico por su valor\n",
    "mi_lista.remove(40)\n",
    "print(mi_lista)\n",
    "\n",
    "# Eliminar un elemento por su índice\n",
    "elemento_eliminado = mi_lista.pop(3) \n",
    "print(mi_lista)\n",
    "\n",
    "print(\"Elemento eliminado:\", elemento_eliminado)"
   ]
  },
  {
   "cell_type": "markdown",
   "metadata": {},
   "source": [
    "### Modificar Diccionarios\n",
    "Puedes modificar los diccionarios añadiendo nuevos pares clave-valor, actualizando los existentes o eliminando pares específicos."
   ]
  },
  {
   "cell_type": "code",
   "execution_count": 26,
   "metadata": {},
   "outputs": [
    {
     "name": "stdout",
     "output_type": "stream",
     "text": [
      "{'nombre': 'Brayan', 'edad': 27, 'ciudad': 'Medellín'}\n",
      "{'nombre': 'Brayan', 'edad': 28, 'ciudad': 'Medellín', 'profesion': 'Economía'}\n",
      "{'nombre': 'Brayan', 'edad': 28, 'profesion': 'Economía'}\n",
      "Ciudad eliminada: No encontrada\n"
     ]
    }
   ],
   "source": [
    "mi_diccionario = {\"nombre\": \"Brayan\", \"edad\": 27, \"ciudad\": \"Medellín\"}\n",
    "print(mi_diccionario)\n",
    "\n",
    "# Modificar un valor existente\n",
    "mi_diccionario[\"edad\"] = 28  \n",
    "\n",
    "# Agregar un nuevo par clave-valor\n",
    "mi_diccionario[\"profesion\"] = \"Economía\"\n",
    "print(mi_diccionario)\n",
    "\n",
    "# Eliminar un par clave-valor\n",
    "del mi_diccionario[\"ciudad\"]\n",
    "\n",
    "# Obtener y eliminar un elemento utilizando pop()\n",
    "ciudad = mi_diccionario.pop(\"ciudad\", \"No encontrada\")  \n",
    "\n",
    "print(mi_diccionario)  \n",
    "print(\"Ciudad eliminada:\", ciudad)"
   ]
  },
  {
   "cell_type": "markdown",
   "metadata": {},
   "source": [
    "### Modificar sets (conjuntos)\n",
    "Los sets son colecciones desordenadas de elementos únicos. Puedes agregar o eliminar elementos de un set, pero no puedes acceder a ellos por índice."
   ]
  },
  {
   "cell_type": "code",
   "execution_count": 30,
   "metadata": {},
   "outputs": [
    {
     "name": "stdout",
     "output_type": "stream",
     "text": [
      "{1, 2, 3}\n",
      "{1, 2, 3, 4}\n",
      "{3, 4}\n",
      "{4}\n",
      "Elemento eliminado: 3\n"
     ]
    }
   ],
   "source": [
    "mi_set = {1, 2, 3, 3}\n",
    "print(mi_set)\n",
    "\n",
    "# Agregar un nuevo elemento\n",
    "mi_set.add(4)\n",
    "print(mi_set)\n",
    "\n",
    "# Eliminar un elemento (si existe)\n",
    "mi_set.discard(2)  # No arroja error si el elemento no existe\n",
    "mi_set.remove(1)   # Arroja un error si el elemento no existe\n",
    "print(mi_set)\n",
    "\n",
    "# Eliminar un elemento aleatorio\n",
    "elemento_eliminado = mi_set.pop()  \n",
    "print(mi_set)  \n",
    "print(\"Elemento eliminado:\", elemento_eliminado)"
   ]
  },
  {
   "cell_type": "markdown",
   "metadata": {},
   "source": [
    "### Modificar Tuplas\n",
    "Las tuplas son inmutables, lo que significa que no puedes cambiar sus elementos directamente después de crearlas. Sin embargo, puedes convertir una tupla en una lista, modificarla, y luego convertirla de nuevo en una tupla."
   ]
  },
  {
   "cell_type": "code",
   "execution_count": 33,
   "metadata": {},
   "outputs": [
    {
     "name": "stdout",
     "output_type": "stream",
     "text": [
      "(1, 'Brayan', False)\n",
      "[10, 'Brayan', False]\n",
      "(10, 'Brayan', False)\n"
     ]
    }
   ],
   "source": [
    "mi_tupla = (1, \"Brayan\", False)\n",
    "print(mi_tupla)\n",
    "\n",
    "# Convertir tupla a lista para modificarla\n",
    "lista_temporal = list(mi_tupla)\n",
    "lista_temporal[0] = 10  \n",
    "print(lista_temporal)\n",
    "\n",
    "# Convertir de nuevo a tupla\n",
    "mi_tupla = tuple(lista_temporal)\n",
    "\n",
    "print(mi_tupla) "
   ]
  },
  {
   "cell_type": "markdown",
   "metadata": {},
   "source": [
    "## Estructuras de Control"
   ]
  },
  {
   "cell_type": "markdown",
   "metadata": {},
   "source": [
    "### Condicionales\n",
    "Los condicionales permiten ejecutar código basado en condiciones."
   ]
  },
  {
   "cell_type": "code",
   "execution_count": 36,
   "metadata": {},
   "outputs": [
    {
     "name": "stdout",
     "output_type": "stream",
     "text": [
      "Eres mayor de edad.\n",
      "Eres menor de edad.\n"
     ]
    }
   ],
   "source": [
    "edad = 18\n",
    "if edad >= 18:\n",
    "    print(\"Eres mayor de edad.\")\n",
    "else:\n",
    "    print(\"Eres menor de edad.\")\n",
    "    \n",
    "if edad <18:\n",
    "     print(\"Eres mayor de edad.\")\n",
    "else:\n",
    "    print(\"Eres menor de edad.\")\n",
    "        "
   ]
  },
  {
   "cell_type": "markdown",
   "metadata": {},
   "source": [
    "## Loops (bucles)"
   ]
  },
  {
   "cell_type": "markdown",
   "metadata": {},
   "source": [
    "### Bucle for\n",
    "El bucle for se utiliza para iterar sobre una secuencia."
   ]
  },
  {
   "cell_type": "code",
   "execution_count": 37,
   "metadata": {},
   "outputs": [
    {
     "name": "stdout",
     "output_type": "stream",
     "text": [
      "0\n",
      "1\n",
      "2\n",
      "3\n",
      "4\n"
     ]
    }
   ],
   "source": [
    "for i in range(5):\n",
    "    print(i)  "
   ]
  },
  {
   "cell_type": "markdown",
   "metadata": {},
   "source": [
    "### Bucle while\n",
    "El bucle while se repite mientras una condición sea verdadera."
   ]
  },
  {
   "cell_type": "code",
   "execution_count": 38,
   "metadata": {},
   "outputs": [
    {
     "name": "stdout",
     "output_type": "stream",
     "text": [
      "0\n",
      "1\n",
      "2\n",
      "3\n",
      "4\n"
     ]
    }
   ],
   "source": [
    "contador = 0\n",
    "while contador < 5:\n",
    "    print(contador)\n",
    "    contador += 1"
   ]
  },
  {
   "cell_type": "markdown",
   "metadata": {},
   "source": [
    "## Funciones \n",
    "Las funciones son bloques de código reutilizables que realizan una tarea específica. En Python, puedes definir tus propias funciones para estructurar y organizar tu código de manera más eficiente."
   ]
  },
  {
   "cell_type": "markdown",
   "metadata": {},
   "source": [
    "### Función sin argumentos de entrada ni de Salida\n",
    "Una función sin argumentos de entrada ni de salida es una función simple que no toma parámetros y no devuelve ningún valor."
   ]
  },
  {
   "cell_type": "code",
   "execution_count": 1,
   "metadata": {},
   "outputs": [
    {
     "name": "stdout",
     "output_type": "stream",
     "text": [
      "¡Hola, Mundo!\n"
     ]
    }
   ],
   "source": [
    "def saludar():\n",
    "    print(\"¡Hola, Mundo!\")\n",
    "\n",
    "saludar()"
   ]
  },
  {
   "cell_type": "markdown",
   "metadata": {},
   "source": [
    "### Función con argumentos de entrada y salida\n",
    "Una función puede aceptar argumentos de entrada para realizar operaciones con ellos y devolver un valor de salida usando la palabra clave `return`."
   ]
  },
  {
   "cell_type": "code",
   "execution_count": 2,
   "metadata": {},
   "outputs": [
    {
     "name": "stdout",
     "output_type": "stream",
     "text": [
      "8\n"
     ]
    }
   ],
   "source": [
    "def sumar(a, b):\n",
    "    resultado = a + b\n",
    "    return resultado\n",
    "\n",
    "suma = sumar(5, 3)\n",
    "print(suma)  \n"
   ]
  },
  {
   "cell_type": "markdown",
   "metadata": {},
   "source": [
    "### Funciones anónimas (Lambdas)"
   ]
  },
  {
   "cell_type": "markdown",
   "metadata": {},
   "source": [
    "Las funciones anónimas o lambdas son pequeñas funciones de una sola línea, definidas con la palabra clave ``lambda``. Son útiles para funciones cortas y rápidas."
   ]
  },
  {
   "cell_type": "markdown",
   "metadata": {},
   "source": [
    "#### Argumento único"
   ]
  },
  {
   "cell_type": "code",
   "execution_count": 6,
   "metadata": {},
   "outputs": [
    {
     "name": "stdout",
     "output_type": "stream",
     "text": [
      "12\n"
     ]
    }
   ],
   "source": [
    "doblar = lambda x: x * 2\n",
    "print(doblar(6)) "
   ]
  },
  {
   "cell_type": "markdown",
   "metadata": {},
   "source": [
    "#### Múltiples argumentos"
   ]
  },
  {
   "cell_type": "code",
   "execution_count": 5,
   "metadata": {},
   "outputs": [
    {
     "name": "stdout",
     "output_type": "stream",
     "text": [
      "11\n"
     ]
    }
   ],
   "source": [
    "sumar = lambda x, y: x + y\n",
    "print(sumar(4, 7))"
   ]
  },
  {
   "cell_type": "markdown",
   "metadata": {},
   "source": [
    "### Scope (ámbito) de las Variables"
   ]
  },
  {
   "cell_type": "markdown",
   "metadata": {},
   "source": [
    "El alcance (scope) de una variable define desde dónde puede ser accedida en el código. Python tiene dos tipos principales de scope:\n",
    "\n",
    "- Global: Variables definidas fuera de cualquier función o bloque.\n",
    "- Local: Variables definidas dentro de una función o bloque."
   ]
  },
  {
   "cell_type": "code",
   "execution_count": 8,
   "metadata": {},
   "outputs": [
    {
     "name": "stdout",
     "output_type": "stream",
     "text": [
      "Hola desde el scope local\n",
      "Hola desde el scope global\n"
     ]
    }
   ],
   "source": [
    "\n",
    "mensaje = \"Hola desde el scope global\"\n",
    "\n",
    "def mi_funcion():\n",
    "    # Variable local\n",
    "    mensaje = \"Hola desde el scope local\"\n",
    "    print(mensaje)\n",
    "\n",
    "mi_funcion() \n",
    "print(mensaje)  \n"
   ]
  },
  {
   "cell_type": "markdown",
   "metadata": {},
   "source": [
    "### Docstrings"
   ]
  },
  {
   "cell_type": "markdown",
   "metadata": {},
   "source": [
    "Los docstrings son cadenas de texto que se utilizan para documentar funciones, métodos, clases o módulos en Python. Se colocan inmediatamente después de la definición de la función."
   ]
  },
  {
   "cell_type": "code",
   "execution_count": 10,
   "metadata": {},
   "outputs": [],
   "source": [
    "\n",
    "def multiplicar(a, b):\n",
    "    \"\"\"\n",
    "    Multiplica dos números y devuelve el resultado.\n",
    "    \n",
    "    Args:\n",
    "    a (int, float): Primer número.\n",
    "    b (int, float): Segundo número.\n",
    "    \n",
    "    Returns:\n",
    "    int, float: El resultado de multiplicar a por b.\n",
    "    \"\"\"\n",
    "    return a * b\n"
   ]
  },
  {
   "cell_type": "code",
   "execution_count": 12,
   "metadata": {},
   "outputs": [
    {
     "data": {
      "text/plain": [
       "'\\n    Multiplica dos números y devuelve el resultado.\\n    \\n    Args:\\n    a (int, float): Primer número.\\n    b (int, float): Segundo número.\\n    \\n    Returns:\\n    int, float: El resultado de multiplicar a por b.\\n    '"
      ]
     },
     "execution_count": 12,
     "metadata": {},
     "output_type": "execute_result"
    }
   ],
   "source": [
    "multiplicar.__doc__"
   ]
  },
  {
   "cell_type": "markdown",
   "metadata": {},
   "source": [
    "### Módulos e importaciones\n",
    "Los módulos son archivos de Python que contienen definiciones y declaraciones de funciones, variables y clases. Se pueden importar para reutilizar el código en diferentes partes de un programa."
   ]
  },
  {
   "cell_type": "markdown",
   "metadata": {},
   "source": [
    "#### Importaciones de librerías\n",
    "##### Sin alias\n"
   ]
  },
  {
   "cell_type": "code",
   "execution_count": 13,
   "metadata": {},
   "outputs": [
    {
     "name": "stdout",
     "output_type": "stream",
     "text": [
      "4.0\n"
     ]
    }
   ],
   "source": [
    "import math\n",
    "\n",
    "# Usar una función del módulo math\n",
    "resultado = math.sqrt(16)\n",
    "print(resultado)  "
   ]
  },
  {
   "cell_type": "markdown",
   "metadata": {},
   "source": [
    "##### Con alias"
   ]
  },
  {
   "cell_type": "code",
   "execution_count": 14,
   "metadata": {},
   "outputs": [
    {
     "name": "stdout",
     "output_type": "stream",
     "text": [
      "5.0\n"
     ]
    }
   ],
   "source": [
    "import math as m\n",
    "\n",
    "# Usar la función con el alias\n",
    "resultado = m.sqrt(25)\n",
    "print(resultado)  \n"
   ]
  },
  {
   "cell_type": "markdown",
   "metadata": {},
   "source": [
    "#### Importaciones Selectivas\n",
    "Puedes importar solo las partes necesarias de un módulo."
   ]
  },
  {
   "cell_type": "code",
   "execution_count": 15,
   "metadata": {},
   "outputs": [
    {
     "name": "stdout",
     "output_type": "stream",
     "text": [
      "3.0\n",
      "3.141592653589793\n"
     ]
    }
   ],
   "source": [
    "from math import sqrt, pi\n",
    "\n",
    "# Usar las funciones y variables importadas directamente\n",
    "print(sqrt(9))  \n",
    "print(pi)       "
   ]
  }
 ],
 "metadata": {
  "kernelspec": {
   "display_name": "Python 3",
   "language": "python",
   "name": "python3"
  },
  "language_info": {
   "codemirror_mode": {
    "name": "ipython",
    "version": 3
   },
   "file_extension": ".py",
   "mimetype": "text/x-python",
   "name": "python",
   "nbconvert_exporter": "python",
   "pygments_lexer": "ipython3",
   "version": "3.12.4"
  }
 },
 "nbformat": 4,
 "nbformat_minor": 2
}
